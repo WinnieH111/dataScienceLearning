{
 "cells": [
  {
   "cell_type": "markdown",
   "metadata": {},
   "source": [
    "# DM_05_04"
   ]
  },
  {
   "cell_type": "markdown",
   "metadata": {},
   "source": [
    "## Import Libraries"
   ]
  },
  {
   "cell_type": "code",
   "execution_count": 1,
   "metadata": {},
   "outputs": [],
   "source": [
    "%matplotlib inline\n",
    "import pylab\n",
    "import numpy as np\n",
    "import pandas as pd\n",
    "from sklearn.svm import OneClassSVM\n",
    "from sklearn.covariance import EllipticEnvelope\n",
    "\n",
    "pylab.rcParams.update({'font.size': 14})"
   ]
  },
  {
   "cell_type": "markdown",
   "metadata": {},
   "source": [
    "## Read CSV"
   ]
  },
  {
   "cell_type": "code",
   "execution_count": 2,
   "metadata": {},
   "outputs": [
    {
     "data": {
      "text/html": [
       "<div>\n",
       "<style scoped>\n",
       "    .dataframe tbody tr th:only-of-type {\n",
       "        vertical-align: middle;\n",
       "    }\n",
       "\n",
       "    .dataframe tbody tr th {\n",
       "        vertical-align: top;\n",
       "    }\n",
       "\n",
       "    .dataframe thead th {\n",
       "        text-align: right;\n",
       "    }\n",
       "</style>\n",
       "<table border=\"1\" class=\"dataframe\">\n",
       "  <thead>\n",
       "    <tr style=\"text-align: right;\">\n",
       "      <th></th>\n",
       "      <th>State</th>\n",
       "      <th>state_code</th>\n",
       "      <th>data science</th>\n",
       "      <th>cluster analysis</th>\n",
       "      <th>college</th>\n",
       "      <th>startup</th>\n",
       "      <th>entrepreneur</th>\n",
       "      <th>ceo</th>\n",
       "      <th>mortgage</th>\n",
       "      <th>nba</th>\n",
       "      <th>...</th>\n",
       "      <th>obfuscation</th>\n",
       "      <th>unicorn</th>\n",
       "      <th>Extraversion</th>\n",
       "      <th>Agreeableness</th>\n",
       "      <th>Conscientiousness</th>\n",
       "      <th>Neuroticism</th>\n",
       "      <th>Openness</th>\n",
       "      <th>PsychRegions</th>\n",
       "      <th>region</th>\n",
       "      <th>division</th>\n",
       "    </tr>\n",
       "  </thead>\n",
       "  <tbody>\n",
       "    <tr>\n",
       "      <th>0</th>\n",
       "      <td>Alabama</td>\n",
       "      <td>AL</td>\n",
       "      <td>-1.00</td>\n",
       "      <td>-0.13</td>\n",
       "      <td>1.10</td>\n",
       "      <td>-0.68</td>\n",
       "      <td>0.15</td>\n",
       "      <td>-0.73</td>\n",
       "      <td>1.53</td>\n",
       "      <td>-0.74</td>\n",
       "      <td>...</td>\n",
       "      <td>-0.32</td>\n",
       "      <td>-1.03</td>\n",
       "      <td>55.5</td>\n",
       "      <td>52.7</td>\n",
       "      <td>55.5</td>\n",
       "      <td>48.7</td>\n",
       "      <td>42.7</td>\n",
       "      <td>1</td>\n",
       "      <td>3</td>\n",
       "      <td>6</td>\n",
       "    </tr>\n",
       "    <tr>\n",
       "      <th>1</th>\n",
       "      <td>Arizona</td>\n",
       "      <td>AZ</td>\n",
       "      <td>-0.42</td>\n",
       "      <td>-0.73</td>\n",
       "      <td>-0.10</td>\n",
       "      <td>0.11</td>\n",
       "      <td>0.57</td>\n",
       "      <td>0.25</td>\n",
       "      <td>0.95</td>\n",
       "      <td>0.38</td>\n",
       "      <td>...</td>\n",
       "      <td>0.38</td>\n",
       "      <td>0.10</td>\n",
       "      <td>50.6</td>\n",
       "      <td>46.6</td>\n",
       "      <td>58.4</td>\n",
       "      <td>38.1</td>\n",
       "      <td>54.7</td>\n",
       "      <td>2</td>\n",
       "      <td>4</td>\n",
       "      <td>8</td>\n",
       "    </tr>\n",
       "    <tr>\n",
       "      <th>2</th>\n",
       "      <td>Arkansas</td>\n",
       "      <td>AR</td>\n",
       "      <td>-0.66</td>\n",
       "      <td>-0.39</td>\n",
       "      <td>-0.64</td>\n",
       "      <td>-0.08</td>\n",
       "      <td>0.01</td>\n",
       "      <td>-0.66</td>\n",
       "      <td>-0.50</td>\n",
       "      <td>-0.71</td>\n",
       "      <td>...</td>\n",
       "      <td>-0.45</td>\n",
       "      <td>-0.32</td>\n",
       "      <td>49.9</td>\n",
       "      <td>52.7</td>\n",
       "      <td>41.0</td>\n",
       "      <td>56.2</td>\n",
       "      <td>40.3</td>\n",
       "      <td>1</td>\n",
       "      <td>3</td>\n",
       "      <td>7</td>\n",
       "    </tr>\n",
       "    <tr>\n",
       "      <th>3</th>\n",
       "      <td>California</td>\n",
       "      <td>CA</td>\n",
       "      <td>1.95</td>\n",
       "      <td>-0.62</td>\n",
       "      <td>-0.26</td>\n",
       "      <td>2.02</td>\n",
       "      <td>0.46</td>\n",
       "      <td>1.27</td>\n",
       "      <td>-0.97</td>\n",
       "      <td>1.46</td>\n",
       "      <td>...</td>\n",
       "      <td>0.70</td>\n",
       "      <td>-0.38</td>\n",
       "      <td>51.4</td>\n",
       "      <td>49.0</td>\n",
       "      <td>43.2</td>\n",
       "      <td>39.1</td>\n",
       "      <td>65.0</td>\n",
       "      <td>2</td>\n",
       "      <td>4</td>\n",
       "      <td>9</td>\n",
       "    </tr>\n",
       "    <tr>\n",
       "      <th>4</th>\n",
       "      <td>Colorado</td>\n",
       "      <td>CO</td>\n",
       "      <td>0.34</td>\n",
       "      <td>0.00</td>\n",
       "      <td>-0.61</td>\n",
       "      <td>1.49</td>\n",
       "      <td>0.05</td>\n",
       "      <td>0.33</td>\n",
       "      <td>1.38</td>\n",
       "      <td>-0.80</td>\n",
       "      <td>...</td>\n",
       "      <td>1.32</td>\n",
       "      <td>0.20</td>\n",
       "      <td>45.3</td>\n",
       "      <td>47.5</td>\n",
       "      <td>58.8</td>\n",
       "      <td>34.3</td>\n",
       "      <td>57.9</td>\n",
       "      <td>1</td>\n",
       "      <td>4</td>\n",
       "      <td>8</td>\n",
       "    </tr>\n",
       "  </tbody>\n",
       "</table>\n",
       "<p>5 rows × 30 columns</p>\n",
       "</div>"
      ],
      "text/plain": [
       "        State state_code  data science  cluster analysis  college  startup  \\\n",
       "0     Alabama         AL         -1.00             -0.13     1.10    -0.68   \n",
       "1     Arizona         AZ         -0.42             -0.73    -0.10     0.11   \n",
       "2    Arkansas         AR         -0.66             -0.39    -0.64    -0.08   \n",
       "3  California         CA          1.95             -0.62    -0.26     2.02   \n",
       "4    Colorado         CO          0.34              0.00    -0.61     1.49   \n",
       "\n",
       "   entrepreneur   ceo  mortgage   nba  ...  obfuscation  unicorn  \\\n",
       "0          0.15 -0.73      1.53 -0.74  ...        -0.32    -1.03   \n",
       "1          0.57  0.25      0.95  0.38  ...         0.38     0.10   \n",
       "2          0.01 -0.66     -0.50 -0.71  ...        -0.45    -0.32   \n",
       "3          0.46  1.27     -0.97  1.46  ...         0.70    -0.38   \n",
       "4          0.05  0.33      1.38 -0.80  ...         1.32     0.20   \n",
       "\n",
       "   Extraversion  Agreeableness  Conscientiousness  Neuroticism  Openness  \\\n",
       "0          55.5           52.7               55.5         48.7      42.7   \n",
       "1          50.6           46.6               58.4         38.1      54.7   \n",
       "2          49.9           52.7               41.0         56.2      40.3   \n",
       "3          51.4           49.0               43.2         39.1      65.0   \n",
       "4          45.3           47.5               58.8         34.3      57.9   \n",
       "\n",
       "   PsychRegions  region  division  \n",
       "0             1       3         6  \n",
       "1             2       4         8  \n",
       "2             1       3         7  \n",
       "3             2       4         9  \n",
       "4             1       4         8  \n",
       "\n",
       "[5 rows x 30 columns]"
      ]
     },
     "execution_count": 2,
     "metadata": {},
     "output_type": "execute_result"
    }
   ],
   "source": [
    "df = pd.read_csv(\"AnomalyData.csv\")\n",
    "df.head()"
   ]
  },
  {
   "cell_type": "markdown",
   "metadata": {},
   "source": [
    "Save state_code to label outliers. \"data\" contains just quantitative variables."
   ]
  },
  {
   "cell_type": "code",
   "execution_count": 3,
   "metadata": {},
   "outputs": [],
   "source": [
    "state_code = df[\"state_code\"]\n",
    "data = df.loc[:, \"data science\": \"Openness\"]"
   ]
  },
  {
   "cell_type": "markdown",
   "metadata": {},
   "source": [
    "## Univariate Outliers \n",
    "Create a box plot to display univariate outliers on \"modern dance.\""
   ]
  },
  {
   "cell_type": "code",
   "execution_count": 37,
   "metadata": {},
   "outputs": [],
   "source": [
    "#param = \"modern dance\"\n",
    "param = \"royal family\""
   ]
  },
  {
   "cell_type": "markdown",
   "metadata": {},
   "source": [
    "Get quantile values and IQR for outlier limits."
   ]
  },
  {
   "cell_type": "code",
   "execution_count": 38,
   "metadata": {},
   "outputs": [
    {
     "name": "stdout",
     "output_type": "stream",
     "text": [
      "-0.645 -0.255 0.44000000000000006 1.6275\n"
     ]
    }
   ],
   "source": [
    "qv1 = data[param].quantile(0.25)\n",
    "qv2 = data[param].quantile(0.5)\n",
    "qv3 = data[param].quantile(0.75)\n",
    "qv_limit = 1.5 * (qv3 - qv1)\n",
    "print(qv1,qv2,qv3,qv_limit)"
   ]
  },
  {
   "cell_type": "markdown",
   "metadata": {},
   "source": [
    "Get positions of outliers and use state_code for labels."
   ]
  },
  {
   "cell_type": "code",
   "execution_count": 39,
   "metadata": {},
   "outputs": [
    {
     "name": "stdout",
     "output_type": "stream",
     "text": [
      "0     0.26\n",
      "1    -1.06\n",
      "2    -0.09\n",
      "3    -1.04\n",
      "4    -0.80\n",
      "5     1.11\n",
      "6     0.94\n",
      "7    -0.84\n",
      "8    -1.26\n",
      "9    -0.83\n",
      "10   -0.64\n",
      "11    0.23\n",
      "12    0.30\n",
      "13   -0.58\n",
      "14   -0.38\n",
      "15   -0.42\n",
      "16    1.53\n",
      "17    1.38\n",
      "18    1.56\n",
      "19   -0.45\n",
      "20    0.56\n",
      "21   -0.46\n",
      "22   -0.63\n",
      "23   -0.12\n",
      "24    0.40\n",
      "25   -1.39\n",
      "26    1.35\n",
      "27    0.85\n",
      "28   -0.06\n",
      "29    0.76\n",
      "30   -0.35\n",
      "31   -0.66\n",
      "32   -0.22\n",
      "33   -0.58\n",
      "34   -2.55\n",
      "35    0.28\n",
      "36    0.76\n",
      "37   -0.04\n",
      "38   -1.30\n",
      "39    0.06\n",
      "40   -1.31\n",
      "41   -1.08\n",
      "42    1.75\n",
      "43   -0.29\n",
      "44    0.32\n",
      "45    0.56\n",
      "46   -0.64\n",
      "47   -0.35\n",
      "Name: royal family, dtype: float64\n",
      "0     False\n",
      "1     False\n",
      "2     False\n",
      "3     False\n",
      "4     False\n",
      "5     False\n",
      "6     False\n",
      "7     False\n",
      "8     False\n",
      "9     False\n",
      "10    False\n",
      "11    False\n",
      "12    False\n",
      "13    False\n",
      "14    False\n",
      "15    False\n",
      "16    False\n",
      "17    False\n",
      "18    False\n",
      "19    False\n",
      "20    False\n",
      "21    False\n",
      "22    False\n",
      "23    False\n",
      "24    False\n",
      "25    False\n",
      "26    False\n",
      "27    False\n",
      "28    False\n",
      "29    False\n",
      "30    False\n",
      "31    False\n",
      "32    False\n",
      "33    False\n",
      "34     True\n",
      "35    False\n",
      "36    False\n",
      "37    False\n",
      "38    False\n",
      "39    False\n",
      "40    False\n",
      "41    False\n",
      "42    False\n",
      "43    False\n",
      "44    False\n",
      "45    False\n",
      "46    False\n",
      "47    False\n",
      "Name: royal family, dtype: bool\n",
      "34   -2.55\n",
      "Name: royal family, dtype: float64\n"
     ]
    }
   ],
   "source": [
    "un_outliers_mask = (data[param] > qv3 + qv_limit) | (data[param] < qv1 - qv_limit)\n",
    "print(data[param])\n",
    "print(un_outliers_mask) # 决定outlier大于那个数或者小于哪个数，如果是outlier，标记true\n",
    "un_outliers_data = data[param][un_outliers_mask]\n",
    "print(un_outliers_data) #应该是modern dance，true/false\n",
    "un_outliers_name = state_code[un_outliers_mask]\n",
    "#print(un_outliers_name)"
   ]
  },
  {
   "cell_type": "markdown",
   "metadata": {},
   "source": [
    "Create box plot for \"modern dance.\""
   ]
  },
  {
   "cell_type": "code",
   "execution_count": 40,
   "metadata": {},
   "outputs": [
    {
     "data": {
      "text/plain": [
       "Text(0, 0.5, 'royal family')"
      ]
     },
     "execution_count": 40,
     "metadata": {},
     "output_type": "execute_result"
    },
    {
     "data": {
      "image/png": "[encoded data removed]",
      "text/plain": [
       "<Figure size 288x432 with 1 Axes>"
      ]
     },
     "metadata": {
      "needs_background": "light"
     },
     "output_type": "display_data"
    }
   ],
   "source": [
    "fig = pylab.figure(figsize=(4,6)) #设定图的大小，长宽\n",
    "ax = fig.add_subplot(1, 1, 1) #add_subplot(nrows, ncols, index, **kwargs)\n",
    "for name, y in zip(un_outliers_name, un_outliers_data):\n",
    "    ax.text(1, y, name)\n",
    "ax.boxplot(data[param])\n",
    "ax.set_ylabel(param)"
   ]
  },
  {
   "cell_type": "markdown",
   "metadata": {},
   "source": [
    "#  Bivariate Outliers\n",
    "Create a scatterplot with an ellipse as a boundary for outliers.\n",
    "\n",
    "Use the Google search terms \"data science\" and \"ceo\" for this example."
   ]
  },
  {
   "cell_type": "code",
   "execution_count": 45,
   "metadata": {},
   "outputs": [
    {
     "name": "stdout",
     "output_type": "stream",
     "text": [
      "[[-1.   -0.73]\n",
      " [-0.42  0.25]\n",
      " [-0.66 -0.66]\n",
      " [ 1.95  1.27]\n",
      " [ 0.34  0.33]\n",
      " [ 0.69  1.52]\n",
      " [ 0.45  0.91]\n",
      " [-0.73  0.36]\n",
      " [-0.27  0.42]\n",
      " [-0.67 -0.59]\n",
      " [ 0.87  1.21]\n",
      " [ 0.01 -0.02]\n",
      " [-0.26 -0.65]\n",
      " [-0.73 -0.66]\n",
      " [-0.65 -0.72]\n",
      " [-1.08 -1.13]\n",
      " [-0.79 -0.81]\n",
      " [ 2.    0.8 ]\n",
      " [ 2.73  2.41]\n",
      " [-0.18 -0.14]\n",
      " [ 0.16  0.63]\n",
      " [-1.27 -1.38]\n",
      " [-0.47 -0.28]\n",
      " [-0.91 -0.89]\n",
      " [-0.12 -0.39]\n",
      " [-0.64  0.25]\n",
      " [-0.16  0.42]\n",
      " [ 1.42  1.48]\n",
      " [-0.39 -1.12]\n",
      " [ 2.03  2.46]\n",
      " [ 0.25  0.2 ]\n",
      " [-1.26 -1.02]\n",
      " [-0.21  0.06]\n",
      " [-0.79 -0.49]\n",
      " [-0.06 -0.85]\n",
      " [ 0.35  0.68]\n",
      " [ 1.34  0.42]\n",
      " [-0.59 -0.53]\n",
      " [-0.64 -1.24]\n",
      " [-0.47 -0.09]\n",
      " [-0.18 -0.06]\n",
      " [ 0.36  0.09]\n",
      " [-0.04 -0.33]\n",
      " [ 0.85 -0.36]\n",
      " [ 2.09  0.4 ]\n",
      " [-0.82 -1.22]\n",
      " [-0.3  -0.38]\n",
      " [-1.17 -1.27]]\n"
     ]
    }
   ],
   "source": [
    "params = [\"data science\", \"ceo\"]\n",
    "params_data = np.array([df[params[0]], df[params[1]]]).T #把这两个variable放在一个nested array里\n",
    "print(params_data)"
   ]
  },
  {
   "cell_type": "markdown",
   "metadata": {},
   "source": [
    "Compute the \"elliptical envelope.\"\n",
    "EllipticEnvelope的reference https://www.studyai.cn/modules/outlier_detection.html"
   ]
  },
  {
   "cell_type": "code",
   "execution_count": 47,
   "metadata": {},
   "outputs": [
    {
     "name": "stdout",
     "output_type": "stream",
     "text": [
      "EllipticEnvelope()\n"
     ]
    }
   ],
   "source": [
    "ee = EllipticEnvelope()\n",
    "ee.fit(params_data)\n",
    "print(ee)"
   ]
  },
  {
   "cell_type": "markdown",
   "metadata": {},
   "source": [
    "Get the names and positions of outliers."
   ]
  },
  {
   "cell_type": "code",
   "execution_count": 52,
   "metadata": {},
   "outputs": [
    {
     "name": "stdout",
     "output_type": "stream",
     "text": [
      "[False False False  True False False False False False False False False\n",
      " False False False False False  True  True False False False False False\n",
      " False False False False False False False False False False False False\n",
      " False False False False False False False  True  True False False False]\n",
      "[[ 1.95  1.27]\n",
      " [ 2.    0.8 ]\n",
      " [ 2.73  2.41]\n",
      " [ 0.85 -0.36]\n",
      " [ 2.09  0.4 ]]\n",
      "3     CA\n",
      "17    MD\n",
      "18    MA\n",
      "43    VA\n",
      "44    WA\n",
      "Name: state_code, dtype: object\n"
     ]
    }
   ],
   "source": [
    "biv_outliers_mask = ee.predict(params_data) == -1 #分析之后看到的结果，是不是outlier\n",
    "print(biv_outliers_mask)\n",
    "biv_outliers_data = params_data[biv_outliers_mask] #outlier的成对信息\n",
    "print(biv_outliers_data)\n",
    "biv_outliers_name = state_code[biv_outliers_mask] #outlier的state_code\n",
    "print(biv_outliers_name)"
   ]
  },
  {
   "cell_type": "markdown",
   "metadata": {},
   "source": [
    "Calculate the decision boundary for the scatterplot."
   ]
  },
  {
   "cell_type": "code",
   "execution_count": 53,
   "metadata": {},
   "outputs": [],
   "source": [
    "xx, yy = np.meshgrid(np.linspace(params_data[:, 0].min(), params_data[:, 0].max(), 100),\n",
    "                     np.linspace(params_data[:, 1].min(), params_data[:, 1].max(), 100))\n",
    "zz = ee.decision_function(np.c_[xx.ravel(), yy.ravel()])\n",
    "zz = zz.reshape(xx.shape)"
   ]
  },
  {
   "cell_type": "markdown",
   "metadata": {},
   "source": [
    "Draw the scatterplot with the elliptical envelope and label the outliers."
   ]
  },
  {
   "cell_type": "code",
   "execution_count": 58,
   "metadata": {},
   "outputs": [
    {
     "data": {
      "text/plain": [
       "Text(0, 0.5, 'ceo')"
      ]
     },
     "execution_count": 58,
     "metadata": {},
     "output_type": "execute_result"
    },
    {
     "data": {
      "image/png": "[encoded data removed]",
      "text/plain": [
       "<Figure size 720x720 with 1 Axes>"
      ]
     },
     "metadata": {
      "needs_background": "light"
     },
     "output_type": "display_data"
    }
   ],
   "source": [
    "fig = pylab.figure(figsize=(10,10))\n",
    "ax = fig.add_subplot(1, 1, 1)\n",
    "for name, xy in zip(biv_outliers_name, biv_outliers_data):\n",
    "    ax.text(xy[0], xy[1], name)\n",
    "ax.contour(xx, yy, zz, levels=[0], linewidths=2) #椭圆形的线，但是这个是怎么决定的？\n",
    "ax.scatter(params_data[:, 0], params_data[:, 1], color='red')\n",
    "ax.set_xlabel(params[0])\n",
    "ax.set_ylabel(params[1])"
   ]
  },
  {
   "cell_type": "markdown",
   "metadata": {},
   "source": [
    "##  Multivariate Outliers\n",
    "Use the one-class support vector machine (SVM) algorithm to classify unusual cases.\n",
    "One Class SVM的reference：https://zhuanlan.zhihu.com/p/32784067"
   ]
  },
  {
   "cell_type": "code",
   "execution_count": 61,
   "metadata": {},
   "outputs": [
    {
     "data": {
      "text/plain": [
       "OneClassSVM(gamma=0.05, nu=0.25)"
      ]
     },
     "execution_count": 61,
     "metadata": {},
     "output_type": "execute_result"
    }
   ],
   "source": [
    "ocsvm = OneClassSVM(nu=0.25, gamma=0.05)\n",
    "ocsvm.fit(data)"
   ]
  },
  {
   "cell_type": "markdown",
   "metadata": {},
   "source": [
    "List the names of the outlying states based on the one-class SVM."
   ]
  },
  {
   "cell_type": "code",
   "execution_count": 60,
   "metadata": {},
   "outputs": [
    {
     "data": {
      "text/plain": [
       "7     FL\n",
       "13    KS\n",
       "14    KY\n",
       "16    ME\n",
       "17    MD\n",
       "18    MA\n",
       "19    MI\n",
       "20    MN\n",
       "21    MS\n",
       "24    NE\n",
       "25    NV\n",
       "27    NJ\n",
       "28    NM\n",
       "30    NC\n",
       "33    OK\n",
       "39    TN\n",
       "43    VA\n",
       "Name: state_code, dtype: object"
      ]
     },
     "execution_count": 60,
     "metadata": {},
     "output_type": "execute_result"
    }
   ],
   "source": [
    "# \n",
    "state_code[ocsvm.predict(data) == -1]"
   ]
  },
  {
   "cell_type": "code",
   "execution_count": null,
   "metadata": {},
   "outputs": [],
   "source": []
  }
 ],
 "metadata": {
  "kernelspec": {
   "display_name": "Python 3",
   "language": "python",
   "name": "python3"
  },
  "language_info": {
   "codemirror_mode": {
    "name": "ipython",
    "version": 3
   },
   "file_extension": ".py",
   "mimetype": "text/x-python",
   "name": "python",
   "nbconvert_exporter": "python",
   "pygments_lexer": "ipython3",
   "version": "3.8.2"
  }
 },
 "nbformat": 4,
 "nbformat_minor": 1
}
